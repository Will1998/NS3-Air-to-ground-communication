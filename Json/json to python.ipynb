{
 "cells": [
  {
   "cell_type": "code",
   "execution_count": 35,
   "metadata": {},
   "outputs": [],
   "source": [
    "import json\n",
    "%matplotlib qt\n",
    "from mpl_toolkits.mplot3d import Axes3D\n",
    "import pylab\n",
    "import numpy as np\n",
    "import matplotlib.pyplot as plt\n",
    "from mpl_toolkits.mplot3d.art3d import Poly3DCollection\n",
    "from mpl_toolkits.mplot3d import proj3d\n"
   ]
  },
  {
   "cell_type": "code",
   "execution_count": 36,
   "metadata": {},
   "outputs": [],
   "source": [
    "# read file\n",
    "#with open('Electrum.json', 'r') as myfile:\n",
    "with open('SkysenseAB.json', 'r') as myfile:\n",
    "    data=myfile.read()"
   ]
  },
  {
   "cell_type": "code",
   "execution_count": 37,
   "metadata": {},
   "outputs": [],
   "source": [
    "# parse file\n",
    "obj = json.loads(data)"
   ]
  },
  {
   "cell_type": "code",
   "execution_count": 38,
   "metadata": {},
   "outputs": [],
   "source": [
    "positions=[]\n",
    "sizes=[]\n",
    "colors=[]\n",
    "for i in range(len(obj)):\n",
    "    positions.append((obj[i][\"Dimension\"][\"x_min\"],obj[i][\"Dimension\"][\"y_min\"],0))\n",
    "    sizes.append((obj[i][\"Dimension\"][\"x_max\"]-obj[i][\"Dimension\"][\"x_min\"],obj[i][\"Dimension\"][\"y_max\"]-obj[i][\"Dimension\"][\"y_min\"],\n",
    "                 obj[i][\"Dimension\"][\"z_max\"]-obj[i][\"Dimension\"][\"z_min\"]))\n",
    "    colors.append(\"gray\")"
   ]
  },
  {
   "cell_type": "code",
   "execution_count": 39,
   "metadata": {},
   "outputs": [],
   "source": [
    "# read file\n",
    "with open('SkysenseAB1.json', 'r') as myfile:\n",
    "#with open('Electrum copy.json', 'r') as myfile:\n",
    "    data2=myfile.read()\n",
    "# parse file\n",
    "obj2 = json.loads(data2)"
   ]
  },
  {
   "cell_type": "code",
   "execution_count": 40,
   "metadata": {},
   "outputs": [],
   "source": [
    "drone_x = []\n",
    "drone_y = []\n",
    "drone_z = []\n",
    "drone_SNR = []\n",
    "drone_thrgh = []\n",
    "for i in range(len(obj2)):\n",
    "    drone_x.append(obj2[i][\"posX\"])\n",
    "    drone_y.append(obj2[i][\"posY\"])\n",
    "    drone_z.append(obj2[i][\"posZ\"])\n",
    "    drone_SNR.append(float(obj2[i][\"SNR\"]))\n",
    "    drone_thrgh.append(float(obj2[i][\"Throughput\"]))"
   ]
  },
  {
   "cell_type": "code",
   "execution_count": 41,
   "metadata": {},
   "outputs": [],
   "source": [
    "from mpl_toolkits.mplot3d import Axes3D\n",
    "import numpy as np\n",
    "import matplotlib.pyplot as plt\n",
    "\n",
    "def cuboid_data(o, size=(1,1,1)):\n",
    "    # code taken from\n",
    "    # https://stackoverflow.comappenda/35978146/4124317\n",
    "    # suppose axis direction: x: to left; y: to inside; z: to upper\n",
    "    # get the length, width, and height\n",
    "    l, w, h = size\n",
    "    x = [[o[0], o[0] + l, o[0] + l, o[0], o[0]],\n",
    "         [o[0], o[0] + l, o[0] + l, o[0], o[0]],\n",
    "         [o[0], o[0] + l, o[0] + l, o[0], o[0]],\n",
    "         [o[0], o[0] + l, o[0] + l, o[0], o[0]]]\n",
    "    y = [[o[1], o[1], o[1] + w, o[1] + w, o[1]],\n",
    "         [o[1], o[1], o[1] + w, o[1] + w, o[1]],\n",
    "         [o[1], o[1], o[1], o[1], o[1]],\n",
    "         [o[1] + w, o[1] + w, o[1] + w, o[1] + w, o[1] + w]]\n",
    "    z = [[o[2], o[2], o[2], o[2], o[2]],\n",
    "         [o[2] + h, o[2] + h, o[2] + h, o[2] + h, o[2] + h],\n",
    "         [o[2], o[2], o[2] + h, o[2] + h, o[2]],\n",
    "         [o[2], o[2], o[2] + h, o[2] + h, o[2]]]\n",
    "    return np.array(x), np.array(y), np.array(z)\n",
    "\n",
    "def plotCubeAt(pos=(0,0,0), size=(1,1,1), ax=None,**kwargs):\n",
    "    # Plotting a cube element at position pos\n",
    "    if ax !=None:\n",
    "        X, Y, Z = cuboid_data( pos, size )\n",
    "        ax.plot_surface(X, Y, Z, rstride=1, cstride=1, **kwargs)\n",
    "\n",
    "#positions = [(20,-20,0),(-20,-20,0)]\n",
    "#sizes = [(10,40,40), (10,40,40)]\n",
    "#colors = [\"gray\",\"gray\"]\n",
    "\n",
    "#drone path\n",
    "#drone_x = [50, 0, -50, 0]\n",
    "#drone_y = [0, 50, 0, -50]\n",
    "#drone_z = [50, 50, 50, 50]\n",
    "\n",
    "#drone_SNR = [30, 25, 10, 20]\n",
    "#drone_thrgh = [64, 34, 39, 50]\n",
    "\n",
    "\n",
    "fig = plt.figure()\n",
    "ax = fig.gca(projection='3d')\n",
    "ax.scatter(0, 0, 9, c='red') #AP (0,0,0)\n",
    "#ax.scatter(50,50,100, c='b') #drone (x,y,z)\n",
    "#ax.text(50,50,100,\"snr:78\", fontsize=12, color = \"b\")\n",
    "#ax.scatter(-50,-50,100, c='b') #drone (x,y,z)\n",
    "#ax.text(-50,-50,100,\"snr:20\", fontsize=12, color = \"b\")\n",
    "#ax.scatter(50,50,50, c='b') #drone (x,y,z)\n",
    "#ax.text(50,50,50,\"snr:36\", fontsize=12, color = \"b\")\n",
    "for p,s,c in zip(positions,sizes,colors):\n",
    "    plotCubeAt(pos=p, size=s, ax=ax, color=c)\n",
    "\n",
    "ax.set_xlim([-160,160])\n",
    "ax.set_ylim([-200,250])\n",
    "ax.set_zlim([0,250])\n",
    "# Writing The Title of The Plot\n",
    "ax.set_title(r'$Graphical\\; Representation\\; $', fontsize=10)\n",
    "\n",
    "# Stablishing the plots of our legend labels\n",
    "gray_proxy = plt.Rectangle((0, 0), 1, 1, fc='gray')\n",
    "red_proxy = plt.Line2D([0], [0], linestyle=\"none\", marker='o', markersize=10, color='red')\n",
    "blue_proxy = plt.Line2D([0], [0], linestyle=\"none\", marker='o', markersize=10, color='blue')\n",
    "\n",
    "# Drawing Our Legend\n",
    "ax.legend([gray_proxy, red_proxy, blue_proxy], [r'$Buildings$', r'$AP\\; (0,0,0)$', r'$Drone\\; path$'], numpoints=1, loc='upper left')\n",
    "\n",
    "for k in range(len(drone_x)):\n",
    "    scatter_node = ax.scatter(drone_x[k], drone_y[k], drone_z[k], c='b')  # drone (x,y,z)\n",
    "\n",
    "    x2, y2, _ = proj3d.proj_transform(drone_x[k],drone_y[k],drone_z[k], ax.get_proj())\n",
    "\n",
    "    label = pylab.annotate(\n",
    "        r'$SNR=%.2f$ dB' '\\n' '$thrgh=%.2f $ Mbps' % (drone_SNR[k],drone_thrgh[k],),\n",
    "        xy = (x2, y2), xytext = (-20, 20),\n",
    "        textcoords = 'offset points', ha = 'right', va = 'bottom',\n",
    "        bbox = dict(boxstyle = 'round,pad=0.5', fc = 'wheat', alpha = 0.2),\n",
    "        arrowprops = dict(arrowstyle = '->', connectionstyle = 'arc3,rad=0'))\n",
    "\n",
    "    plt.pause(2)\n",
    "    scatter_node.set_visible(False)\n",
    "    label.remove()\n",
    "\n",
    "pylab.show()\n",
    "\n",
    "\n",
    "plt.show()"
   ]
  },
  {
   "cell_type": "code",
   "execution_count": null,
   "metadata": {},
   "outputs": [],
   "source": []
  }
 ],
 "metadata": {
  "kernelspec": {
   "display_name": "Python 3",
   "language": "python",
   "name": "python3"
  },
  "language_info": {
   "codemirror_mode": {
    "name": "ipython",
    "version": 3
   },
   "file_extension": ".py",
   "mimetype": "text/x-python",
   "name": "python",
   "nbconvert_exporter": "python",
   "pygments_lexer": "ipython3",
   "version": "3.7.3"
  }
 },
 "nbformat": 4,
 "nbformat_minor": 4
}
